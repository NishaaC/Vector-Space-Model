{
  "cells": [
    {
      "cell_type": "code",
      "execution_count": 28,
      "metadata": {
        "id": "OR4L0PiDFzp-",
        "colab": {
          "base_uri": "https://localhost:8080/"
        },
        "outputId": "8323bcea-a7e5-440c-ef00-e636df3bbd22"
      },
      "outputs": [
        {
          "output_type": "stream",
          "name": "stderr",
          "text": [
            "[nltk_data] Downloading package stopwords to /root/nltk_data...\n",
            "[nltk_data]   Unzipping corpora/stopwords.zip.\n",
            "[nltk_data] Downloading package punkt to /root/nltk_data...\n",
            "[nltk_data]   Unzipping tokenizers/punkt.zip.\n",
            "[nltk_data] Downloading package wordnet to /root/nltk_data...\n"
          ]
        },
        {
          "output_type": "execute_result",
          "data": {
            "text/plain": [
              "True"
            ]
          },
          "metadata": {},
          "execution_count": 28
        }
      ],
      "source": [
        "import os\n",
        "import logging\n",
        "import math\n",
        "import numpy as np\n",
        "import re\n",
        "import nltk\n",
        "from nltk.corpus import stopwords\n",
        "from nltk.stem import WordNetLemmatizer\n",
        "nltk.download('stopwords')\n",
        "nltk.download('punkt')\n",
        "nltk.download('wordnet')"
      ]
    },
    {
      "cell_type": "code",
      "source": [
        "STOPWORDS = set(stopwords.words('english'))\n",
        "LEMMATIZER = WordNetLemmatizer()"
      ],
      "metadata": {
        "id": "utLz9mPWa5Rt"
      },
      "execution_count": 29,
      "outputs": []
    },
    {
      "cell_type": "code",
      "source": [
        "from google.colab import drive\n",
        "drive.mount('/content/drive')"
      ],
      "metadata": {
        "colab": {
          "base_uri": "https://localhost:8080/"
        },
        "id": "OPed55alW4HR",
        "outputId": "e070928e-c5dc-44ad-8735-619fdc2119ea"
      },
      "execution_count": 30,
      "outputs": [
        {
          "output_type": "stream",
          "name": "stdout",
          "text": [
            "Drive already mounted at /content/drive; to attempt to forcibly remount, call drive.mount(\"/content/drive\", force_remount=True).\n"
          ]
        }
      ]
    },
    {
      "cell_type": "code",
      "execution_count": 31,
      "metadata": {
        "id": "bMHq7vEoGsBY"
      },
      "outputs": [],
      "source": [
        "def load_text_files(folder_path):\n",
        "    data = {}\n",
        "    doc_id_to_filename = {}\n",
        "    doc_id = 0\n",
        "    for filename in os.listdir(folder_path):\n",
        "        if filename.endswith(\".txt\"):\n",
        "            with open(os.path.join(folder_path, filename), 'r', encoding='utf-8') as file:\n",
        "                data[doc_id] = file.read()\n",
        "                doc_id_to_filename[doc_id] = filename\n",
        "                logging.info(f\"Loaded file: {filename} with doc_id: {doc_id}\")\n",
        "                doc_id += 1\n",
        "    return data, doc_id_to_filename\n"
      ]
    },
    {
      "cell_type": "code",
      "source": [
        "# Removes special characters from text, tokenizes it, eliminates stop words, and lemmatizes it.\n",
        "def tokenize(text):\n",
        "  tokens = text.lower()\n",
        "  text = re.sub(r\"[^a-zA-Z0-9\\s]\", \"\", text)  # Remove special characters\n",
        "  tokens = text.split()\n",
        "  cleaned_tokens = [LEMMATIZER.lemmatize(word) for word in tokens if word not in STOPWORDS]\n",
        "  return cleaned_tokens\n"
      ],
      "metadata": {
        "id": "7Wc-ljSifnvc"
      },
      "execution_count": 42,
      "outputs": []
    },
    {
      "cell_type": "code",
      "execution_count": 33,
      "metadata": {
        "id": "Gw-1-tYDG5ss"
      },
      "outputs": [],
      "source": [
        "def term_frequency(term, document):\n",
        "    return document.count(term) / len(document)"
      ]
    },
    {
      "cell_type": "code",
      "execution_count": 34,
      "metadata": {
        "id": "qJP24Il2JKf7"
      },
      "outputs": [],
      "source": [
        "def inverse_document_frequency(term, all_documents):\n",
        "    num_docs_containing_term = sum(1 for doc in all_documents if term in doc)\n",
        "    return math.log(len(all_documents) / (1 + num_docs_containing_term))"
      ]
    },
    {
      "cell_type": "code",
      "execution_count": 35,
      "metadata": {
        "id": "9erh72LwJNgK"
      },
      "outputs": [],
      "source": [
        "def compute_tfidf(document, all_documents, vocab):\n",
        "    tfidf_vector = []\n",
        "    for term in vocab:\n",
        "        tf = term_frequency(term, document)\n",
        "        idf = inverse_document_frequency(term, all_documents)\n",
        "        tfidf_vector.append(tf * idf)\n",
        "    return np.array(tfidf_vector)"
      ]
    },
    {
      "cell_type": "code",
      "execution_count": 36,
      "metadata": {
        "id": "c5WO-N_ZJQGZ"
      },
      "outputs": [],
      "source": [
        "def cosine_similarity(vec1, vec2):\n",
        "    dot_product = np.dot(vec1, vec2)\n",
        "    norm_vec1 = np.linalg.norm(vec1)\n",
        "    norm_vec2 = np.linalg.norm(vec2)\n",
        "    return dot_product / (norm_vec1 * norm_vec2) if norm_vec1 * norm_vec2 != 0 else 0"
      ]
    },
    {
      "cell_type": "code",
      "execution_count": 43,
      "metadata": {
        "colab": {
          "base_uri": "https://localhost:8080/"
        },
        "id": "rpCEypFnJS8d",
        "outputId": "8cb4e33e-c1b1-43ad-fe36-d4dd78613831"
      },
      "outputs": [
        {
          "output_type": "stream",
          "name": "stdout",
          "text": [
            "None\n",
            "[('balanced diet', [(9, 0.2542962722727766), (1, 0.19916160642137054), (0, 0.0), (2, 0.0), (3, 0.0), (4, 0.0), (5, 0.0), (6, 0.0), (7, 0.0), (8, 0.0)])]\n",
            "[('balanced diet', [(9, 0.2542962722727766), (1, 0.19916160642137054), (0, 0.0), (2, 0.0), (3, 0.0), (4, 0.0), (5, 0.0), (6, 0.0), (7, 0.0), (8, 0.0)]), ('good health', [(9, 0.17447725662825692), (5, 0.03239399707527137), (1, 0.0320703059931084), (7, 0.030545118637625747), (0, 0.0), (2, 0.0), (3, 0.0), (4, 0.0), (6, 0.0), (8, 0.0)])]\n",
            "[('balanced diet', [(9, 0.2542962722727766), (1, 0.19916160642137054), (0, 0.0), (2, 0.0), (3, 0.0), (4, 0.0), (5, 0.0), (6, 0.0), (7, 0.0), (8, 0.0)]), ('good health', [(9, 0.17447725662825692), (5, 0.03239399707527137), (1, 0.0320703059931084), (7, 0.030545118637625747), (0, 0.0), (2, 0.0), (3, 0.0), (4, 0.0), (6, 0.0), (8, 0.0)]), ('technology', [(0, 0.24702023445481192), (6, 0.22673008897439073), (1, 0.0), (2, 0.0), (3, 0.0), (4, 0.0), (5, 0.0), (7, 0.0), (8, 0.0), (9, 0.0)])]\n",
            "[('balanced diet', [(9, 0.2542962722727766), (1, 0.19916160642137054), (0, 0.0), (2, 0.0), (3, 0.0), (4, 0.0), (5, 0.0), (6, 0.0), (7, 0.0), (8, 0.0)]), ('good health', [(9, 0.17447725662825692), (5, 0.03239399707527137), (1, 0.0320703059931084), (7, 0.030545118637625747), (0, 0.0), (2, 0.0), (3, 0.0), (4, 0.0), (6, 0.0), (8, 0.0)]), ('technology', [(0, 0.24702023445481192), (6, 0.22673008897439073), (1, 0.0), (2, 0.0), (3, 0.0), (4, 0.0), (5, 0.0), (7, 0.0), (8, 0.0), (9, 0.0)]), ('climate change', [(8, 0.23452100331512699), (0, 0.0), (1, 0.0), (2, 0.0), (3, 0.0), (4, 0.0), (5, 0.0), (6, 0.0), (7, 0.0), (9, 0.0)])]\n",
            "[('balanced diet', [(9, 0.2542962722727766), (1, 0.19916160642137054), (0, 0.0), (2, 0.0), (3, 0.0), (4, 0.0), (5, 0.0), (6, 0.0), (7, 0.0), (8, 0.0)]), ('good health', [(9, 0.17447725662825692), (5, 0.03239399707527137), (1, 0.0320703059931084), (7, 0.030545118637625747), (0, 0.0), (2, 0.0), (3, 0.0), (4, 0.0), (6, 0.0), (8, 0.0)]), ('technology', [(0, 0.24702023445481192), (6, 0.22673008897439073), (1, 0.0), (2, 0.0), (3, 0.0), (4, 0.0), (5, 0.0), (7, 0.0), (8, 0.0), (9, 0.0)]), ('climate change', [(8, 0.23452100331512699), (0, 0.0), (1, 0.0), (2, 0.0), (3, 0.0), (4, 0.0), (5, 0.0), (6, 0.0), (7, 0.0), (9, 0.0)]), ('education', [(3, 0.1572448575138483), (0, 0.0), (1, 0.0), (2, 0.0), (4, 0.0), (5, 0.0), (6, 0.0), (7, 0.0), (8, 0.0), (9, 0.0)])]\n",
            "[('balanced diet', [(9, 0.2542962722727766), (1, 0.19916160642137054), (0, 0.0), (2, 0.0), (3, 0.0), (4, 0.0), (5, 0.0), (6, 0.0), (7, 0.0), (8, 0.0)]), ('good health', [(9, 0.17447725662825692), (5, 0.03239399707527137), (1, 0.0320703059931084), (7, 0.030545118637625747), (0, 0.0), (2, 0.0), (3, 0.0), (4, 0.0), (6, 0.0), (8, 0.0)]), ('technology', [(0, 0.24702023445481192), (6, 0.22673008897439073), (1, 0.0), (2, 0.0), (3, 0.0), (4, 0.0), (5, 0.0), (7, 0.0), (8, 0.0), (9, 0.0)]), ('climate change', [(8, 0.23452100331512699), (0, 0.0), (1, 0.0), (2, 0.0), (3, 0.0), (4, 0.0), (5, 0.0), (6, 0.0), (7, 0.0), (9, 0.0)]), ('education', [(3, 0.1572448575138483), (0, 0.0), (1, 0.0), (2, 0.0), (4, 0.0), (5, 0.0), (6, 0.0), (7, 0.0), (8, 0.0), (9, 0.0)]), ('ecosystem', [(8, 0.16583139177479905), (0, 0.0), (1, 0.0), (2, 0.0), (3, 0.0), (4, 0.0), (5, 0.0), (6, 0.0), (7, 0.0), (9, 0.0)])]\n"
          ]
        }
      ],
      "source": [
        "def main():\n",
        "    folder_path = \"/content/drive/MyDrive/TECH 400 Information Retrieval/Docs\"\n",
        "\n",
        "    docs, doc_id_to_filename = load_text_files(folder_path)\n",
        "\n",
        "    queries = [\"balanced diet\",\n",
        "               \"good health\",\n",
        "               \"technology\",\n",
        "               \"climate change\",\n",
        "               \"education\",\n",
        "               \"ecosystem\",\n",
        "               ]\n",
        "\n",
        "    tokenized_docs = [tokenize(doc) for doc in docs.values()]\n",
        "\n",
        "    vocab = sorted(set(word for doc in tokenized_docs for word in doc))\n",
        "    print(logging.info(f\"Vocabulary size: {len(vocab)}\"))\n",
        "\n",
        "    doc_tfidf_vectors = [compute_tfidf(doc, tokenized_docs, vocab) for doc in tokenized_docs]\n",
        "\n",
        "    results = []\n",
        "    for query in queries:\n",
        "        tokenized_query = tokenize(query)\n",
        "        query_tfidf_vector = compute_tfidf(tokenized_query, tokenized_docs, vocab)\n",
        "\n",
        "        similarities = []\n",
        "        for doc_id, doc_vector in enumerate(doc_tfidf_vectors):\n",
        "            similarity = cosine_similarity(query_tfidf_vector, doc_vector)\n",
        "            similarities.append((doc_id, similarity))\n",
        "\n",
        "        similarities.sort(key=lambda x: x[1], reverse=True)\n",
        "\n",
        "        results.append((query, similarities))\n",
        "\n",
        "        print(results)\n",
        "\n",
        "    path = \"/content/drive/MyDrive/TECH 400 Information Retrieval/result\"\n",
        "    output_file = os.path.join(path, \"results_Nisha.txt\")\n",
        "    with open(output_file, 'w', encoding='utf-8') as f:\n",
        "        for query, similarities in results:\n",
        "            f.write(f\"Query: {query}\\n\")\n",
        "            for doc_id, similarity in similarities:\n",
        "                filename = doc_id_to_filename[doc_id]\n",
        "                f.write(f\"  Document: {filename}, Similarity: {similarity:.4f}\\n\")\n",
        "            f.write(\"\\n\")\n",
        "\n",
        "    logging.info(f\"Results written to {output_file}\")\n",
        "\n",
        "if __name__ == \"__main__\":\n",
        "    main()"
      ]
    },
    {
      "cell_type": "code",
      "execution_count": null,
      "metadata": {
        "id": "ZnwGz6O_KVxJ"
      },
      "outputs": [],
      "source": []
    }
  ],
  "metadata": {
    "colab": {
      "provenance": []
    },
    "kernelspec": {
      "display_name": "Python 3",
      "name": "python3"
    },
    "language_info": {
      "name": "python"
    }
  },
  "nbformat": 4,
  "nbformat_minor": 0
}